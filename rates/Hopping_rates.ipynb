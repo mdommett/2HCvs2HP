{
 "cells": [
  {
   "cell_type": "markdown",
   "metadata": {
    "deletable": true,
    "editable": true
   },
   "source": [
    "# Hopping Rates From Marcus Theory"
   ]
  },
  {
   "cell_type": "markdown",
   "metadata": {
    "deletable": true,
    "editable": true
   },
   "source": [
    "Implemenation of Marcus theory to determine exciton hopping rates in 2HC and 2HP systems. The work is based on the paper from Stehr _et. al._ (http://pubs.acs.org/doi/pdf/10.1021/ct500014h). Herein I implement equation 3 from Stehr:\n",
    "\n",
    "\n",
    "\n",
    "$\\nu_{ij}$=$\\frac{V_{ij}^2}{\\hbar}\\sqrt{\\frac{\\pi}{\\lambda k_{B}T}}\\exp(-\\frac{\\lambda}{4k_{B}T})$\n"
   ]
  },
  {
   "cell_type": "markdown",
   "metadata": {
    "deletable": true,
    "editable": true
   },
   "source": [
    "## Import the data"
   ]
  },
  {
   "cell_type": "code",
   "execution_count": 2,
   "metadata": {
    "collapsed": true,
    "deletable": true,
    "editable": true
   },
   "outputs": [],
   "source": [
    "import numpy as np\n",
    "import pandas as pd\n",
    "import numpy as np\n",
    "from scipy import constants \n",
    "from decimal import Decimal"
   ]
  },
  {
   "cell_type": "code",
   "execution_count": 3,
   "metadata": {
    "collapsed": false,
    "deletable": true,
    "editable": true
   },
   "outputs": [],
   "source": [
    "couplings=pd.read_csv(\"couplings.csv\",names=[\"system\",\"packing\",\"orientation\",\"coupling (eV)\"],index_col=False)\n",
    "reorg_energies=pd.read_csv(\"reorg_energies.csv\",names=[\"system\",\"state\",\"energy (eV)\"])"
   ]
  },
  {
   "cell_type": "markdown",
   "metadata": {
    "deletable": true,
    "editable": true,
    "heading_collapsed": true
   },
   "source": [
    "## View the data"
   ]
  },
  {
   "cell_type": "code",
   "execution_count": 232,
   "metadata": {
    "collapsed": false,
    "deletable": true,
    "editable": true,
    "hidden": true
   },
   "outputs": [
    {
     "data": {
      "text/html": [
       "<div>\n",
       "<table border=\"1\" class=\"dataframe\">\n",
       "  <thead>\n",
       "    <tr style=\"text-align: right;\">\n",
       "      <th></th>\n",
       "      <th>system</th>\n",
       "      <th>packing</th>\n",
       "      <th>orientation</th>\n",
       "      <th>coupling (eV)</th>\n",
       "    </tr>\n",
       "  </thead>\n",
       "  <tbody>\n",
       "    <tr>\n",
       "      <th>0</th>\n",
       "      <td>2HC-1</td>\n",
       "      <td>Edge-Face</td>\n",
       "      <td>P</td>\n",
       "      <td>0.061</td>\n",
       "    </tr>\n",
       "    <tr>\n",
       "      <th>1</th>\n",
       "      <td>2HC-1</td>\n",
       "      <td>Edge-Face</td>\n",
       "      <td>AP</td>\n",
       "      <td>0.108</td>\n",
       "    </tr>\n",
       "    <tr>\n",
       "      <th>2</th>\n",
       "      <td>2HC-2</td>\n",
       "      <td>Edge-Face</td>\n",
       "      <td>P</td>\n",
       "      <td>0.033</td>\n",
       "    </tr>\n",
       "    <tr>\n",
       "      <th>3</th>\n",
       "      <td>2HC-3</td>\n",
       "      <td>Edge-Face</td>\n",
       "      <td>P</td>\n",
       "      <td>0.044</td>\n",
       "    </tr>\n",
       "    <tr>\n",
       "      <th>4</th>\n",
       "      <td>2HC-3</td>\n",
       "      <td>Edge-Face</td>\n",
       "      <td>AP</td>\n",
       "      <td>0.080</td>\n",
       "    </tr>\n",
       "  </tbody>\n",
       "</table>\n",
       "</div>"
      ],
      "text/plain": [
       "  system    packing orientation  coupling (eV)\n",
       "0  2HC-1  Edge-Face           P          0.061\n",
       "1  2HC-1  Edge-Face          AP          0.108\n",
       "2  2HC-2  Edge-Face           P          0.033\n",
       "3  2HC-3  Edge-Face           P          0.044\n",
       "4  2HC-3  Edge-Face          AP          0.080"
      ]
     },
     "execution_count": 232,
     "metadata": {},
     "output_type": "execute_result"
    }
   ],
   "source": [
    "couplings.head()"
   ]
  },
  {
   "cell_type": "code",
   "execution_count": 231,
   "metadata": {
    "collapsed": false,
    "deletable": true,
    "editable": true,
    "hidden": true
   },
   "outputs": [
    {
     "data": {
      "text/html": [
       "<div>\n",
       "<table border=\"1\" class=\"dataframe\">\n",
       "  <thead>\n",
       "    <tr style=\"text-align: right;\">\n",
       "      <th></th>\n",
       "      <th>system</th>\n",
       "      <th>state</th>\n",
       "      <th>energy (eV)</th>\n",
       "    </tr>\n",
       "  </thead>\n",
       "  <tbody>\n",
       "    <tr>\n",
       "      <th>0</th>\n",
       "      <td>2HC-1</td>\n",
       "      <td>E*</td>\n",
       "      <td>0.233300</td>\n",
       "    </tr>\n",
       "    <tr>\n",
       "      <th>1</th>\n",
       "      <td>2HC-1</td>\n",
       "      <td>K*</td>\n",
       "      <td>NaN</td>\n",
       "    </tr>\n",
       "    <tr>\n",
       "      <th>2</th>\n",
       "      <td>2HC-2</td>\n",
       "      <td>E*</td>\n",
       "      <td>0.246377</td>\n",
       "    </tr>\n",
       "    <tr>\n",
       "      <th>3</th>\n",
       "      <td>2HC-2</td>\n",
       "      <td>K*</td>\n",
       "      <td>NaN</td>\n",
       "    </tr>\n",
       "    <tr>\n",
       "      <th>4</th>\n",
       "      <td>2HC-3</td>\n",
       "      <td>E*</td>\n",
       "      <td>0.249489</td>\n",
       "    </tr>\n",
       "  </tbody>\n",
       "</table>\n",
       "</div>"
      ],
      "text/plain": [
       "  system state  energy (eV)\n",
       "0  2HC-1    E*     0.233300\n",
       "1  2HC-1    K*          NaN\n",
       "2  2HC-2    E*     0.246377\n",
       "3  2HC-2    K*          NaN\n",
       "4  2HC-3    E*     0.249489"
      ]
     },
     "execution_count": 231,
     "metadata": {},
     "output_type": "execute_result"
    }
   ],
   "source": [
    "reorg_energies.head()"
   ]
  },
  {
   "cell_type": "markdown",
   "metadata": {
    "deletable": true,
    "editable": true
   },
   "source": [
    "## Equations"
   ]
  },
  {
   "cell_type": "code",
   "execution_count": 4,
   "metadata": {
    "collapsed": false,
    "deletable": true,
    "editable": true
   },
   "outputs": [],
   "source": [
    "def hopping_rate(coupling,reorg,temp):\n",
    "    return (float(coupling)**2/J2eV(constants.hbar))*np.sqrt(np.pi/(float(reorg)*J2eV(constants.k)*temp))*np.exp(-(float(reorg)/(4*J2eV(constants.k)*temp)))\n",
    "\n",
    "def FCWD(reorg,temp):\n",
    "    return (1/(2*np.sqrt(np.pi*float(reorg)*J2eV(constants.k)*temp)))*np.exp(-(float(reorg)/(4*J2eV(constants.k)*temp)))"
   ]
  },
  {
   "cell_type": "code",
   "execution_count": 30,
   "metadata": {
    "collapsed": false,
    "deletable": true,
    "editable": true
   },
   "outputs": [],
   "source": [
    "def au2eV(value):\n",
    "    return float(value)*27.211396\n",
    "\n",
    "def au2J(value):\n",
    "    return float(value)*4.359744e-18\n",
    "\n",
    "def J2eV(value):\n",
    "    return float(value)*6.241509e18\n"
   ]
  },
  {
   "cell_type": "code",
   "execution_count": 31,
   "metadata": {
    "collapsed": true
   },
   "outputs": [],
   "source": [
    "def test_rate(coupling,reorg,temp):\n",
    "    first=float(coupling)**2/J2eV(constants.hbar)\n",
    "    second=np.sqrt(np.pi/(reorg*J2eV(constants.k)*temp))\n",
    "    third=np.exp(-(reorg)/(4*J2eV(constants.k)*temp))\n",
    "    print first\n",
    "    print second \n",
    "    print third\n",
    "    print \"Hbar: {}\".format(J2eV(constants.hbar))\n",
    "    print \"Kb: {}\".format(J2eV(constants.k))\n",
    "\n",
    "    return first*second*third\n",
    "\n"
   ]
  },
  {
   "cell_type": "markdown",
   "metadata": {
    "deletable": true,
    "editable": true
   },
   "source": [
    "# Rate Calculations"
   ]
  },
  {
   "cell_type": "code",
   "execution_count": 15,
   "metadata": {
    "collapsed": false,
    "deletable": true,
    "editable": true
   },
   "outputs": [
    {
     "name": "stdout",
     "output_type": "stream",
     "text": [
      "System: 2HC-1 State: E* Rate: 1.33574425896e+13\n",
      "System: 2HC-1 State: E* Rate: 4.18707902083e+13\n",
      "System: 2HC-2 State: E* Rate: 3.34933840855e+12\n",
      "System: 2HC-3 State: E* Rate: 5.74056950857e+12\n",
      "System: 2HC-3 State: E* Rate: 1.89770892845e+13\n",
      "System: 2HC-4 State: E* Rate: 8.00499399089e+12\n",
      "System: 2HC-4 State: E* Rate: 2.56047311491e+13\n",
      "System: 2HC-5 State: K* Rate: 16745531897.3\n",
      "System: 2HC-5 State: K* Rate: 27258779033.8\n",
      "System: 2HC-5 State: K* Rate: 975661192.589\n",
      "System: 2HP-1 State: K* Rate: 202538148.198\n",
      "System: 2HP-1 State: K* Rate: 4307451.93651\n",
      "System: 2HP-1 State: K* Rate: 351628.729511\n",
      "System: 2HP-2 State: K* Rate: 238917042.675\n",
      "System: 2HP-2 State: K* Rate: 13353891575.8\n",
      "System: 2HP-2 State: K* Rate: 2150253384.08\n",
      "System: 2HP-2 State: K* Rate: 626276873.77\n",
      "System: 2HP-3 State: K* Rate: 6298926786.63\n",
      "System: 2HP-4 State: K* Rate: 124491.113662\n",
      "System: 2HP-4 State: K* Rate: 3112277.84154\n",
      "System: 2HP-4 State: K* Rate: 241014796.049\n"
     ]
    }
   ],
   "source": [
    "for i in range(len(couplings)):\n",
    "    for j in range(len(reorg_energies)):\n",
    "        if couplings.loc[i,\"system\"]==reorg_energies.loc[j,\"system\"] and pd.notnull(reorg_energies.loc[j,\"energy (eV)\"]):\n",
    "            print \"System: {} State: {} Rate: {}\".format(couplings.loc[i,\"system\"],reorg_energies.loc[j,\"state\"],hopping_rate(couplings.loc[i,\"coupling (eV)\"],reorg_energies.loc[j,\"energy (eV)\"],298))"
   ]
  },
  {
   "cell_type": "code",
   "execution_count": 32,
   "metadata": {
    "collapsed": false
   },
   "outputs": [
    {
     "name": "stdout",
     "output_type": "stream",
     "text": [
      "5.65319433485e+12\n",
      "22.9140827645\n",
      "0.103484479255\n",
      "Hbar: 6.58211938171e-16\n",
      "Kb: 8.61733016342e-05\n"
     ]
    },
    {
     "data": {
      "text/plain": [
       "13405147934643.424"
      ]
     },
     "execution_count": 32,
     "metadata": {},
     "output_type": "execute_result"
    }
   ],
   "source": [
    "test_rate(0.061,0.233,298)\n",
    "\n"
   ]
  },
  {
   "cell_type": "code",
   "execution_count": null,
   "metadata": {
    "collapsed": true
   },
   "outputs": [],
   "source": []
  }
 ],
 "metadata": {
  "kernelspec": {
   "display_name": "Python 2",
   "language": "python",
   "name": "python2"
  },
  "language_info": {
   "codemirror_mode": {
    "name": "ipython",
    "version": 2
   },
   "file_extension": ".py",
   "mimetype": "text/x-python",
   "name": "python",
   "nbconvert_exporter": "python",
   "pygments_lexer": "ipython2",
   "version": "2.7.12"
  }
 },
 "nbformat": 4,
 "nbformat_minor": 2
}
